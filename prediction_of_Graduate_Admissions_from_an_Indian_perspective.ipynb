{
  "nbformat": 4,
  "nbformat_minor": 0,
  "metadata": {
    "colab": {
      "provenance": []
    },
    "kernelspec": {
      "name": "python3",
      "display_name": "Python 3"
    },
    "language_info": {
      "name": "python"
    }
  },
  "cells": [
    {
      "cell_type": "markdown",
      "source": [
        "Import the libraries which required"
      ],
      "metadata": {
        "id": "Q6UcqCaON3Vj"
      }
    },
    {
      "cell_type": "code",
      "execution_count": 1,
      "metadata": {
        "id": "S8DXqa6fHbkB"
      },
      "outputs": [],
      "source": [
        "import sklearn\n",
        "import pandas as pd\n",
        "import numpy as np\n",
        "import matplotlib.pyplot as plt\n",
        "import seaborn as sns"
      ]
    },
    {
      "cell_type": "markdown",
      "source": [
        "Read the data from csv file"
      ],
      "metadata": {
        "id": "lA3yz6sGN_Sq"
      }
    },
    {
      "cell_type": "code",
      "source": [
        "data = pd.read_csv('/content/Admission_Predict_Ver1.1.csv')"
      ],
      "metadata": {
        "id": "4rRab4DtH-QN"
      },
      "execution_count": 3,
      "outputs": []
    },
    {
      "cell_type": "markdown",
      "source": [
        "display the data"
      ],
      "metadata": {
        "id": "wJSnGTi6ODtQ"
      }
    },
    {
      "cell_type": "code",
      "source": [
        "data"
      ],
      "metadata": {
        "id": "A4YuwOvLIEt_"
      },
      "execution_count": null,
      "outputs": []
    },
    {
      "cell_type": "markdown",
      "source": [
        "checking the data"
      ],
      "metadata": {
        "id": "xcC0o2TlOJLq"
      }
    },
    {
      "cell_type": "code",
      "source": [
        "data.isna().sum()"
      ],
      "metadata": {
        "id": "pSu1A-jSIG9p"
      },
      "execution_count": null,
      "outputs": []
    },
    {
      "cell_type": "code",
      "source": [
        "data.duplicated()"
      ],
      "metadata": {
        "id": "kXLYTrtlIKMM"
      },
      "execution_count": null,
      "outputs": []
    },
    {
      "cell_type": "markdown",
      "source": [
        "split the data into dependent and independent data"
      ],
      "metadata": {
        "id": "eeY1nUfhONbG"
      }
    },
    {
      "cell_type": "code",
      "source": [
        "x = data.iloc[:,:-1]\n",
        "y = data.iloc[:,-1]"
      ],
      "metadata": {
        "id": "IFSXcXPBIOB8"
      },
      "execution_count": 7,
      "outputs": []
    },
    {
      "cell_type": "markdown",
      "source": [
        "reshaping the data into appropriate format"
      ],
      "metadata": {
        "id": "Ztwh9bCrOS-F"
      }
    },
    {
      "cell_type": "code",
      "source": [
        "y=y.values.reshape(-1,1)\n",
        "x,y"
      ],
      "metadata": {
        "id": "kzZNVVm9IXnQ"
      },
      "execution_count": null,
      "outputs": []
    },
    {
      "cell_type": "code",
      "source": [
        "x"
      ],
      "metadata": {
        "id": "gZl5JVs2MW1V"
      },
      "execution_count": null,
      "outputs": []
    },
    {
      "cell_type": "markdown",
      "source": [
        "split the data into train and test data"
      ],
      "metadata": {
        "id": "rGhE1ubTOZW9"
      }
    },
    {
      "cell_type": "code",
      "source": [
        "from sklearn.model_selection import train_test_split\n",
        "x_train,x_test,y_train,y_test = train_test_split(x,y,test_size=0.3,random_state=42)\n",
        "x_train,y_train"
      ],
      "metadata": {
        "id": "LUm5IQCPIdCU"
      },
      "execution_count": null,
      "outputs": []
    },
    {
      "cell_type": "markdown",
      "source": [
        "import the linear regression model for classification"
      ],
      "metadata": {
        "id": "oV8HuhdQOiuT"
      }
    },
    {
      "cell_type": "code",
      "source": [
        "from sklearn.linear_model import LinearRegression\n",
        "lr = LinearRegression()"
      ],
      "metadata": {
        "id": "L-GrMZDJI7z_"
      },
      "execution_count": 11,
      "outputs": []
    },
    {
      "cell_type": "markdown",
      "source": [
        "fitting the model"
      ],
      "metadata": {
        "id": "p3tvIt6FOn9a"
      }
    },
    {
      "cell_type": "code",
      "source": [
        "lr.fit(x_train,y_train)"
      ],
      "metadata": {
        "id": "DnH2nMJPJ8Wt"
      },
      "execution_count": null,
      "outputs": []
    },
    {
      "cell_type": "markdown",
      "source": [
        "get accuracy of the data"
      ],
      "metadata": {
        "id": "VRHq6zV-OqEy"
      }
    },
    {
      "cell_type": "code",
      "source": [
        "res = lr.score(x_test,y_test)\n",
        "res*100"
      ],
      "metadata": {
        "id": "Y7uSsCCUKtSu"
      },
      "execution_count": null,
      "outputs": []
    },
    {
      "cell_type": "markdown",
      "source": [
        "prediction based on assumption values"
      ],
      "metadata": {
        "id": "t7MpiE7GOt01"
      }
    },
    {
      "cell_type": "code",
      "source": [
        "future_predict = lr.predict([[154,345,120,5,4.5,4,9.95,1]])"
      ],
      "metadata": {
        "id": "Bhq5YwzlMt77"
      },
      "execution_count": null,
      "outputs": []
    },
    {
      "cell_type": "code",
      "source": [
        "future_predict"
      ],
      "metadata": {
        "id": "vRcpmkMBNoUU"
      },
      "execution_count": null,
      "outputs": []
    }
  ]
}